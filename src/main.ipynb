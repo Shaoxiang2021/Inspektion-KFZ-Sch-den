{
 "cells": [
  {
   "cell_type": "code",
   "execution_count": 1,
   "metadata": {},
   "outputs": [],
   "source": [
    "# Envs\n",
    "from dataset import MyData\n",
    "from torchvision import transforms\n",
    "from torch.utils.data import random_split, DataLoader\n",
    "from train import *\n",
    "from path import ROOT_DIR\n",
    "import torch.nn as nn\n",
    "import torch.optim as optim\n",
    "import pandas as pd\n",
    "import os\n",
    "import torchvision.models as models\n",
    "import torch.optim.lr_scheduler as lr_scheduler"
   ]
  },
  {
   "cell_type": "code",
   "execution_count": 2,
   "metadata": {},
   "outputs": [],
   "source": [
    "# load Data\n",
    "csv_file = os.path.join(ROOT_DIR, \"data\", \"labels\", \"car_imgs_4000.csv\")\n",
    "data = pd.read_csv(csv_file)\n",
    "\n",
    "image_paths = data['filename'].tolist()\n",
    "labels = data[['perspective_score_hood', 'perspective_score_backdoor_left']].values.tolist() "
   ]
  },
  {
   "cell_type": "code",
   "execution_count": 3,
   "metadata": {},
   "outputs": [],
   "source": [
    "# config \n",
    "device = torch.device(\"cuda\" if torch.cuda.is_available() else \"cpu\")\n",
    "num_epochs = 10\n",
    "batch_size = 32\n",
    "learning_rate = 0.0001\n",
    "\n",
    "# image preporcessing\n",
    "train_transform = transforms.Compose([\n",
    "    transforms.Resize((224, 224)),\n",
    "    transforms.RandomRotation(degrees=5), \n",
    "    transforms.ColorJitter(hue=0.15, saturation=0.15, brightness=0.25), \n",
    "    transforms.GaussianBlur((7, 7), sigma=(0.1, 0.5)), \n",
    "    transforms.ToTensor(),\n",
    "    transforms.Normalize([0.485, 0.456, 0.406], [0.229, 0.224, 0.225])\n",
    "])\n",
    "\n",
    "val_transform = transforms.Compose([\n",
    "    transforms.Resize((224, 224)),\n",
    "    transforms.ToTensor(),\n",
    "    transforms.Normalize([0.485, 0.456, 0.406], [0.229, 0.224, 0.225])\n",
    "])"
   ]
  },
  {
   "cell_type": "code",
   "execution_count": 4,
   "metadata": {},
   "outputs": [
    {
     "name": "stdout",
     "output_type": "stream",
     "text": [
      "Epoch 1/10, Train Loss: 0.0445, Validation Loss: 0.0149\n",
      "Epoch 2/10, Train Loss: 0.0092, Validation Loss: 0.0115\n",
      "Epoch 3/10, Train Loss: 0.0055, Validation Loss: 0.0108\n",
      "Epoch 4/10, Train Loss: 0.0039, Validation Loss: 0.0092\n",
      "Epoch 5/10, Train Loss: 0.0036, Validation Loss: 0.0092\n",
      "Epoch 6/10, Train Loss: 0.0028, Validation Loss: 0.0098\n",
      "Epoch 7/10, Train Loss: 0.0020, Validation Loss: 0.0088\n",
      "Epoch 8/10, Train Loss: 0.0018, Validation Loss: 0.0082\n",
      "Epoch 9/10, Train Loss: 0.0016, Validation Loss: 0.0078\n",
      "Epoch 10/10, Train Loss: 0.0013, Validation Loss: 0.0077\n"
     ]
    }
   ],
   "source": [
    "dataset = MyData(image_paths, labels)\n",
    "\n",
    "# load model\n",
    "model = models.densenet121(weights=models.DenseNet121_Weights.IMAGENET1K_V1)\n",
    "model.classifier = nn.Sequential(\n",
    "    nn.Linear(model.classifier.in_features, 2), \n",
    "    nn.Sigmoid()  \n",
    ")\n",
    "model.to(device)\n",
    "\n",
    "criterion = nn.MSELoss()\n",
    "optimizer = optim.Adam(model.parameters(), lr=learning_rate)\n",
    "scheduler = lr_scheduler.CosineAnnealingLR(optimizer, T_max=10, eta_min=0)\n",
    "\n",
    "train_size = int(0.8 * len(dataset)) \n",
    "val_size = len(dataset) - train_size  \n",
    "train_dataset, val_dataset = random_split(dataset, [train_size, val_size])\n",
    "\n",
    "train_dataset.dataset.transform = val_transform\n",
    "val_dataset.dataset.transform = val_transform \n",
    "\n",
    "train_loader = DataLoader(train_dataset, batch_size=batch_size, shuffle=True, num_workers=4)\n",
    "val_loader = DataLoader(val_dataset, batch_size=batch_size, shuffle=False)\n",
    "\n",
    "for epoch in range(num_epochs):\n",
    "    train_loss = train(model, train_loader, optimizer, criterion, device)\n",
    "    val_loss = validate(model, val_loader, criterion, device)\n",
    "    \n",
    "    print(f\"Epoch {epoch+1}/{num_epochs}, Train Loss: {train_loss:.4f}, Validation Loss: {val_loss:.4f}\")\n",
    "\n",
    "torch.save(model.state_dict(), os.path.join(ROOT_DIR, \"model\", 'densenet121_model_10_1e-4_32_224x224_decay.pth'))"
   ]
  },
  {
   "cell_type": "code",
   "execution_count": 5,
   "metadata": {},
   "outputs": [],
   "source": [
    "# test\n",
    "\n",
    "test_image_path = os.path.join(ROOT_DIR, \"data\", \"imgs\", \"00b9e159-3ce0-4325-8e9b-4d829db719e8.jpg\")"
   ]
  },
  {
   "cell_type": "code",
   "execution_count": 6,
   "metadata": {},
   "outputs": [
    {
     "data": {
      "text/plain": [
       "tensor([[0.0121, 0.8465]], device='cuda:0')"
      ]
     },
     "execution_count": 6,
     "metadata": {},
     "output_type": "execute_result"
    }
   ],
   "source": [
    "from PIL import Image\n",
    "\n",
    "val_transform = transforms.Compose([\n",
    "    transforms.Resize((224, 224)),\n",
    "    transforms.ToTensor(),\n",
    "    transforms.Normalize([0.485, 0.456, 0.406], [0.229, 0.224, 0.225])\n",
    "])\n",
    "\n",
    "def load_image(image_path):\n",
    "    image = Image.open(image_path).convert('RGB') \n",
    "    image = val_transform(image) \n",
    "    image = image.unsqueeze(0) \n",
    "    return image\n",
    "\n",
    "model = models.densenet121() \n",
    "model.classifier = nn.Sequential(\n",
    "    nn.Linear(model.classifier.in_features, 2),\n",
    "    nn.Sigmoid() \n",
    ")\n",
    "device = torch.device(\"cuda\" if torch.cuda.is_available() else \"cpu\")\n",
    "model = model.to(device)\n",
    "model.load_state_dict(torch.load(os.path.join(ROOT_DIR, \"model\", 'densenet121_model_10_1e-4_32_224x224_decay.pth')))\n",
    "model.eval()\n",
    "\n",
    "image = load_image(test_image_path).to(device)\n",
    "with torch.no_grad(): \n",
    "    output = model(image)  \n",
    "\n",
    "output"
   ]
  }
 ],
 "metadata": {
  "kernelspec": {
   "display_name": "openmmlab",
   "language": "python",
   "name": "python3"
  },
  "language_info": {
   "codemirror_mode": {
    "name": "ipython",
    "version": 3
   },
   "file_extension": ".py",
   "mimetype": "text/x-python",
   "name": "python",
   "nbconvert_exporter": "python",
   "pygments_lexer": "ipython3",
   "version": "3.8.18"
  }
 },
 "nbformat": 4,
 "nbformat_minor": 2
}
